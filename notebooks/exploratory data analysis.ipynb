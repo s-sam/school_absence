{
 "cells": [
  {
   "cell_type": "markdown",
   "metadata": {},
   "source": [
    "# School Absence - Exploratory Data Analysis"
   ]
  },
  {
   "cell_type": "markdown",
   "metadata": {},
   "source": [
    "## Load libraries"
   ]
  },
  {
   "cell_type": "code",
   "execution_count": 104,
   "metadata": {},
   "outputs": [],
   "source": [
    "import os\n",
    "import pandas as pd"
   ]
  },
  {
   "cell_type": "markdown",
   "metadata": {},
   "source": [
    "## Set display options"
   ]
  },
  {
   "cell_type": "code",
   "execution_count": 105,
   "metadata": {},
   "outputs": [],
   "source": [
    "pd.set_option('display.max_rows', None)\n",
    "pd.set_option('display.max_columns', None)"
   ]
  },
  {
   "cell_type": "markdown",
   "metadata": {},
   "source": [
    "## Load data"
   ]
  },
  {
   "cell_type": "code",
   "execution_count": 106,
   "metadata": {},
   "outputs": [],
   "source": [
    "data_path = r\"/Users/ssam/school_absence/data/external/6_absence_2term_characteristics.csv\"\n",
    "data = pd.read_csv(data_path)"
   ]
  },
  {
   "cell_type": "code",
   "execution_count": 108,
   "metadata": {},
   "outputs": [
    {
     "data": {
      "text/plain": [
       "Index(['time_period', 'time_identifier', 'geographic_level', 'country_code',\n",
       "       'country_name', 'region_code', 'region_name', 'old_la_code',\n",
       "       'new_la_code', 'la_name', 'school_type', 'characteristic', 'enrolments',\n",
       "       'sess_possible', 'sess_overall', 'sess_authorised', 'sess_unauthorised',\n",
       "       'sess_overall_percent', 'sess_authorised_percent',\n",
       "       'sess_unauthorised_percent', 'enrolments_pa_10_exact',\n",
       "       'enrolments_pa_10_exact_percent', 'sess_possible_pa_10_exact',\n",
       "       'sess_overall_pa_10_exact', 'sess_authorised_pa_10_exact',\n",
       "       'sess_unauthorised_pa_10_exact', 'sess_overall_percent_pa_10_exact',\n",
       "       'sess_authorised_percent_pa_10_exact',\n",
       "       'sess_unauthorised_percent_pa_10_exact', 'sess_auth_illness',\n",
       "       'sess_auth_appointments', 'sess_auth_religious', 'sess_auth_study',\n",
       "       'sess_auth_traveller', 'sess_auth_holiday', 'sess_auth_ext_holiday',\n",
       "       'sess_auth_excluded', 'sess_auth_other', 'sess_auth_totalreasons',\n",
       "       'sess_unauth_holiday', 'sess_unauth_late', 'sess_unauth_other',\n",
       "       'sess_unauth_noyet', 'sess_unauth_totalreasons',\n",
       "       'sess_overall_totalreasons', 'sess_x_covid', 'sess_y_exceptional'],\n",
       "      dtype='object')"
      ]
     },
     "execution_count": 108,
     "metadata": {},
     "output_type": "execute_result"
    }
   ],
   "source": [
    "data.columns"
   ]
  },
  {
   "cell_type": "markdown",
   "metadata": {},
   "source": [
    "## Clean data"
   ]
  },
  {
   "cell_type": "markdown",
   "metadata": {},
   "source": [
    "### Restrict time period"
   ]
  },
  {
   "cell_type": "code",
   "execution_count": 109,
   "metadata": {},
   "outputs": [],
   "source": [
    "time_period = 202223\n",
    "\n",
    "data_clean = data.loc[data.loc[:,'time_period']==time_period]"
   ]
  },
  {
   "cell_type": "markdown",
   "metadata": {},
   "source": [
    "### Restrict columns"
   ]
  },
  {
   "cell_type": "code",
   "execution_count": 110,
   "metadata": {},
   "outputs": [],
   "source": [
    "dimensions = ['time_period', 'time_identifier', 'geographic_level', 'region_code', 'region_name',\n",
    "       'new_la_code', 'la_name', 'school_type', 'characteristic']\n",
    "\n",
    "values = ['enrolments',\n",
    "       'sess_possible', 'sess_overall', 'sess_authorised', 'sess_unauthorised',\n",
    "       'sess_overall_percent', 'sess_authorised_percent',\n",
    "       'sess_unauthorised_percent', 'enrolments_pa_10_exact',\n",
    "       'enrolments_pa_10_exact_percent', 'sess_possible_pa_10_exact',\n",
    "       'sess_overall_pa_10_exact', 'sess_authorised_pa_10_exact',\n",
    "       'sess_unauthorised_pa_10_exact', 'sess_overall_percent_pa_10_exact',\n",
    "       'sess_authorised_percent_pa_10_exact',\n",
    "       'sess_unauthorised_percent_pa_10_exact', 'sess_auth_illness',\n",
    "       'sess_auth_appointments', 'sess_auth_religious', 'sess_auth_study',\n",
    "       'sess_auth_traveller', 'sess_auth_holiday', 'sess_auth_ext_holiday',\n",
    "       'sess_auth_excluded', 'sess_auth_other', 'sess_auth_totalreasons',\n",
    "       'sess_unauth_holiday', 'sess_unauth_late', 'sess_unauth_other',\n",
    "       'sess_unauth_noyet', 'sess_unauth_totalreasons',\n",
    "       'sess_overall_totalreasons', 'sess_x_covid', 'sess_y_exceptional']\n",
    "\n",
    "data_clean = data_clean.loc[:, dimensions + values]"
   ]
  },
  {
   "cell_type": "markdown",
   "metadata": {},
   "source": [
    "### Unpivot values"
   ]
  },
  {
   "cell_type": "code",
   "execution_count": 111,
   "metadata": {},
   "outputs": [],
   "source": [
    "data_clean = pd.melt(data_clean, id_vars=dimensions,\n",
    "                     value_vars=values,\n",
    "                     var_name='Measure',\n",
    "                     value_name='Value')"
   ]
  },
  {
   "cell_type": "code",
   "execution_count": 112,
   "metadata": {},
   "outputs": [
    {
     "data": {
      "text/html": [
       "<div>\n",
       "<style scoped>\n",
       "    .dataframe tbody tr th:only-of-type {\n",
       "        vertical-align: middle;\n",
       "    }\n",
       "\n",
       "    .dataframe tbody tr th {\n",
       "        vertical-align: top;\n",
       "    }\n",
       "\n",
       "    .dataframe thead th {\n",
       "        text-align: right;\n",
       "    }\n",
       "</style>\n",
       "<table border=\"1\" class=\"dataframe\">\n",
       "  <thead>\n",
       "    <tr style=\"text-align: right;\">\n",
       "      <th></th>\n",
       "      <th>time_period</th>\n",
       "      <th>time_identifier</th>\n",
       "      <th>geographic_level</th>\n",
       "      <th>region_code</th>\n",
       "      <th>region_name</th>\n",
       "      <th>new_la_code</th>\n",
       "      <th>la_name</th>\n",
       "      <th>school_type</th>\n",
       "      <th>characteristic</th>\n",
       "      <th>Measure</th>\n",
       "      <th>Value</th>\n",
       "    </tr>\n",
       "  </thead>\n",
       "  <tbody>\n",
       "    <tr>\n",
       "      <th>0</th>\n",
       "      <td>202223</td>\n",
       "      <td>Autumn and spring term</td>\n",
       "      <td>Regional</td>\n",
       "      <td>E12000001</td>\n",
       "      <td>North East</td>\n",
       "      <td>NaN</td>\n",
       "      <td>NaN</td>\n",
       "      <td>State-funded secondary</td>\n",
       "      <td>Ethnicity Major - Chinese</td>\n",
       "      <td>enrolments</td>\n",
       "      <td>667</td>\n",
       "    </tr>\n",
       "  </tbody>\n",
       "</table>\n",
       "</div>"
      ],
      "text/plain": [
       "   time_period         time_identifier geographic_level region_code  \\\n",
       "0       202223  Autumn and spring term         Regional   E12000001   \n",
       "\n",
       "  region_name new_la_code la_name             school_type  \\\n",
       "0  North East         NaN     NaN  State-funded secondary   \n",
       "\n",
       "              characteristic     Measure Value  \n",
       "0  Ethnicity Major - Chinese  enrolments   667  "
      ]
     },
     "execution_count": 112,
     "metadata": {},
     "output_type": "execute_result"
    }
   ],
   "source": [
    "data_clean.head(1)"
   ]
  },
  {
   "cell_type": "markdown",
   "metadata": {},
   "source": [
    "### Rename values within characteristics field"
   ]
  },
  {
   "cell_type": "code",
   "execution_count": 113,
   "metadata": {},
   "outputs": [],
   "source": [
    "rename_characteristics = pd.read_csv(r\"/Users/ssam/school_absence/data/raw/rename_characteristic.csv\")\n",
    "\n",
    "data_clean = pd.merge(left=data_clean,\n",
    "                      right=rename_characteristics,\n",
    "                      how='outer',\n",
    "                      on='characteristic')"
   ]
  },
  {
   "cell_type": "markdown",
   "metadata": {},
   "source": [
    "### Rename fields"
   ]
  },
  {
   "cell_type": "code",
   "execution_count": 114,
   "metadata": {},
   "outputs": [],
   "source": [
    "rename_measures = pd.read_csv(r\"/Users/ssam/school_absence/data/raw/rename_measures.csv\")\n",
    "\n",
    "data_clean = pd.merge(left=data_clean,\n",
    "                      right=rename_measures,\n",
    "                      how='outer',\n",
    "                      on='Measure')"
   ]
  },
  {
   "cell_type": "code",
   "execution_count": 115,
   "metadata": {},
   "outputs": [
    {
     "data": {
      "text/html": [
       "<div>\n",
       "<style scoped>\n",
       "    .dataframe tbody tr th:only-of-type {\n",
       "        vertical-align: middle;\n",
       "    }\n",
       "\n",
       "    .dataframe tbody tr th {\n",
       "        vertical-align: top;\n",
       "    }\n",
       "\n",
       "    .dataframe thead th {\n",
       "        text-align: right;\n",
       "    }\n",
       "</style>\n",
       "<table border=\"1\" class=\"dataframe\">\n",
       "  <thead>\n",
       "    <tr style=\"text-align: right;\">\n",
       "      <th></th>\n",
       "      <th>time_period</th>\n",
       "      <th>time_identifier</th>\n",
       "      <th>geographic_level</th>\n",
       "      <th>region_code</th>\n",
       "      <th>region_name</th>\n",
       "      <th>new_la_code</th>\n",
       "      <th>la_name</th>\n",
       "      <th>school_type</th>\n",
       "      <th>characteristic</th>\n",
       "      <th>Measure</th>\n",
       "      <th>Value</th>\n",
       "      <th>new_characteristic_group</th>\n",
       "      <th>new_characteristic_name</th>\n",
       "      <th>Measure Name</th>\n",
       "    </tr>\n",
       "  </thead>\n",
       "  <tbody>\n",
       "    <tr>\n",
       "      <th>0</th>\n",
       "      <td>202223.0</td>\n",
       "      <td>Autumn and spring term</td>\n",
       "      <td>Regional</td>\n",
       "      <td>E12000001</td>\n",
       "      <td>North East</td>\n",
       "      <td>NaN</td>\n",
       "      <td>NaN</td>\n",
       "      <td>State-funded secondary</td>\n",
       "      <td>Ethnicity Major - Chinese</td>\n",
       "      <td>enrolments</td>\n",
       "      <td>667</td>\n",
       "      <td>Ethnicity Major</td>\n",
       "      <td>Chinese</td>\n",
       "      <td>Number of pupil enrolments</td>\n",
       "    </tr>\n",
       "  </tbody>\n",
       "</table>\n",
       "</div>"
      ],
      "text/plain": [
       "   time_period         time_identifier geographic_level region_code  \\\n",
       "0     202223.0  Autumn and spring term         Regional   E12000001   \n",
       "\n",
       "  region_name new_la_code la_name             school_type  \\\n",
       "0  North East         NaN     NaN  State-funded secondary   \n",
       "\n",
       "              characteristic     Measure Value new_characteristic_group  \\\n",
       "0  Ethnicity Major - Chinese  enrolments   667          Ethnicity Major   \n",
       "\n",
       "  new_characteristic_name                Measure Name  \n",
       "0                 Chinese  Number of pupil enrolments  "
      ]
     },
     "execution_count": 115,
     "metadata": {},
     "output_type": "execute_result"
    }
   ],
   "source": [
    "data_clean.head(1)\n",
    "# data_clean.columns"
   ]
  },
  {
   "cell_type": "code",
   "execution_count": 119,
   "metadata": {},
   "outputs": [
    {
     "name": "stdout",
     "output_type": "stream",
     "text": [
      "379683.6666666667 759367.3333333334 1139051\n"
     ]
    }
   ],
   "source": [
    "print(len(data_clean)/3, len(data_clean)/3*2, len(data_clean))"
   ]
  },
  {
   "cell_type": "markdown",
   "metadata": {},
   "source": [
    "### Save to Processed folder"
   ]
  },
  {
   "cell_type": "code",
   "execution_count": 103,
   "metadata": {},
   "outputs": [],
   "source": [
    "# data_clean.to_csv(index=False, path_or_buf=r\"/Users/ssam/school_absence/data/processed/clean_6_absence_2term_characteristics.csv\")"
   ]
  },
  {
   "cell_type": "code",
   "execution_count": 120,
   "metadata": {},
   "outputs": [
    {
     "data": {
      "text/html": [
       "<div>\n",
       "<style scoped>\n",
       "    .dataframe tbody tr th:only-of-type {\n",
       "        vertical-align: middle;\n",
       "    }\n",
       "\n",
       "    .dataframe tbody tr th {\n",
       "        vertical-align: top;\n",
       "    }\n",
       "\n",
       "    .dataframe thead th {\n",
       "        text-align: right;\n",
       "    }\n",
       "</style>\n",
       "<table border=\"1\" class=\"dataframe\">\n",
       "  <thead>\n",
       "    <tr style=\"text-align: right;\">\n",
       "      <th></th>\n",
       "      <th>time_period</th>\n",
       "      <th>time_identifier</th>\n",
       "      <th>geographic_level</th>\n",
       "      <th>region_code</th>\n",
       "      <th>region_name</th>\n",
       "      <th>new_la_code</th>\n",
       "      <th>la_name</th>\n",
       "      <th>school_type</th>\n",
       "      <th>characteristic</th>\n",
       "      <th>Measure</th>\n",
       "      <th>Value</th>\n",
       "      <th>new_characteristic_group</th>\n",
       "      <th>new_characteristic_name</th>\n",
       "      <th>Measure Name</th>\n",
       "    </tr>\n",
       "  </thead>\n",
       "  <tbody>\n",
       "    <tr>\n",
       "      <th>0</th>\n",
       "      <td>202223.0</td>\n",
       "      <td>Autumn and spring term</td>\n",
       "      <td>Regional</td>\n",
       "      <td>E12000001</td>\n",
       "      <td>North East</td>\n",
       "      <td>NaN</td>\n",
       "      <td>NaN</td>\n",
       "      <td>State-funded secondary</td>\n",
       "      <td>Ethnicity Major - Chinese</td>\n",
       "      <td>enrolments</td>\n",
       "      <td>667</td>\n",
       "      <td>Ethnicity Major</td>\n",
       "      <td>Chinese</td>\n",
       "      <td>Number of pupil enrolments</td>\n",
       "    </tr>\n",
       "    <tr>\n",
       "      <th>1</th>\n",
       "      <td>202223.0</td>\n",
       "      <td>Autumn and spring term</td>\n",
       "      <td>Regional</td>\n",
       "      <td>E12000009</td>\n",
       "      <td>South West</td>\n",
       "      <td>NaN</td>\n",
       "      <td>NaN</td>\n",
       "      <td>Special</td>\n",
       "      <td>Ethnicity Major - Chinese</td>\n",
       "      <td>enrolments</td>\n",
       "      <td>27</td>\n",
       "      <td>Ethnicity Major</td>\n",
       "      <td>Chinese</td>\n",
       "      <td>Number of pupil enrolments</td>\n",
       "    </tr>\n",
       "  </tbody>\n",
       "</table>\n",
       "</div>"
      ],
      "text/plain": [
       "   time_period         time_identifier geographic_level region_code  \\\n",
       "0     202223.0  Autumn and spring term         Regional   E12000001   \n",
       "1     202223.0  Autumn and spring term         Regional   E12000009   \n",
       "\n",
       "  region_name new_la_code la_name             school_type  \\\n",
       "0  North East         NaN     NaN  State-funded secondary   \n",
       "1  South West         NaN     NaN                 Special   \n",
       "\n",
       "              characteristic     Measure Value new_characteristic_group  \\\n",
       "0  Ethnicity Major - Chinese  enrolments   667          Ethnicity Major   \n",
       "1  Ethnicity Major - Chinese  enrolments    27          Ethnicity Major   \n",
       "\n",
       "  new_characteristic_name                Measure Name  \n",
       "0                 Chinese  Number of pupil enrolments  \n",
       "1                 Chinese  Number of pupil enrolments  "
      ]
     },
     "execution_count": 120,
     "metadata": {},
     "output_type": "execute_result"
    }
   ],
   "source": [
    "data_clean.loc[0:1]"
   ]
  },
  {
   "cell_type": "code",
   "execution_count": 121,
   "metadata": {},
   "outputs": [],
   "source": [
    "data_clean.loc[0:379683].to_csv(index=False, path_or_buf=r\"/Users/ssam/school_absence/data/processed/clean_6_absence_2term_characteristics_1.csv\")\n",
    "data_clean.loc[379684:759367].to_csv(index=False, path_or_buf=r\"/Users/ssam/school_absence/data/processed/clean_6_absence_2term_characteristics_2.csv\")\n",
    "data_clean.loc[759368:1139051].to_csv(index=False, path_or_buf=r\"/Users/ssam/school_absence/data/processed/clean_6_absence_2term_characteristics_3.csv\")"
   ]
  },
  {
   "cell_type": "markdown",
   "metadata": {},
   "source": [
    "## EDA"
   ]
  },
  {
   "cell_type": "code",
   "execution_count": 30,
   "metadata": {},
   "outputs": [
    {
     "data": {
      "text/html": [
       "<div>\n",
       "<style scoped>\n",
       "    .dataframe tbody tr th:only-of-type {\n",
       "        vertical-align: middle;\n",
       "    }\n",
       "\n",
       "    .dataframe tbody tr th {\n",
       "        vertical-align: top;\n",
       "    }\n",
       "\n",
       "    .dataframe thead th {\n",
       "        text-align: right;\n",
       "    }\n",
       "</style>\n",
       "<table border=\"1\" class=\"dataframe\">\n",
       "  <thead>\n",
       "    <tr style=\"text-align: right;\">\n",
       "      <th></th>\n",
       "      <th>sess_overall_percent</th>\n",
       "      <th>sess_authorised_percent</th>\n",
       "      <th>sess_unauthorised_percent</th>\n",
       "      <th>enrolments_pa_10_exact_percent</th>\n",
       "      <th>sess_overall_percent_pa_10_exact</th>\n",
       "      <th>sess_authorised_percent_pa_10_exact</th>\n",
       "      <th>sess_unauthorised_percent_pa_10_exact</th>\n",
       "    </tr>\n",
       "  </thead>\n",
       "  <tbody>\n",
       "    <tr>\n",
       "      <th>0</th>\n",
       "      <td>3.91625</td>\n",
       "      <td>3.19595</td>\n",
       "      <td>0.72030</td>\n",
       "      <td>7.74908</td>\n",
       "      <td>16.06352</td>\n",
       "      <td>11.87219</td>\n",
       "      <td>4.19133</td>\n",
       "    </tr>\n",
       "    <tr>\n",
       "      <th>1</th>\n",
       "      <td>7.83561</td>\n",
       "      <td>5.04636</td>\n",
       "      <td>2.78925</td>\n",
       "      <td>22.41224</td>\n",
       "      <td>25.17962</td>\n",
       "      <td>14.00838</td>\n",
       "      <td>11.17124</td>\n",
       "    </tr>\n",
       "    <tr>\n",
       "      <th>2</th>\n",
       "      <td>3.43943</td>\n",
       "      <td>2.41126</td>\n",
       "      <td>1.02817</td>\n",
       "      <td>7.08215</td>\n",
       "      <td>16.78752</td>\n",
       "      <td>9.14630</td>\n",
       "      <td>7.64122</td>\n",
       "    </tr>\n",
       "    <tr>\n",
       "      <th>3</th>\n",
       "      <td>4.13149</td>\n",
       "      <td>2.58179</td>\n",
       "      <td>1.54970</td>\n",
       "      <td>9.95516</td>\n",
       "      <td>18.79168</td>\n",
       "      <td>8.98733</td>\n",
       "      <td>9.80435</td>\n",
       "    </tr>\n",
       "    <tr>\n",
       "      <th>4</th>\n",
       "      <td>4.85367</td>\n",
       "      <td>3.40474</td>\n",
       "      <td>1.44893</td>\n",
       "      <td>12.65116</td>\n",
       "      <td>18.03998</td>\n",
       "      <td>10.35420</td>\n",
       "      <td>7.68577</td>\n",
       "    </tr>\n",
       "  </tbody>\n",
       "</table>\n",
       "</div>"
      ],
      "text/plain": [
       "   sess_overall_percent  sess_authorised_percent  sess_unauthorised_percent  \\\n",
       "0               3.91625                  3.19595                    0.72030   \n",
       "1               7.83561                  5.04636                    2.78925   \n",
       "2               3.43943                  2.41126                    1.02817   \n",
       "3               4.13149                  2.58179                    1.54970   \n",
       "4               4.85367                  3.40474                    1.44893   \n",
       "\n",
       "   enrolments_pa_10_exact_percent  sess_overall_percent_pa_10_exact  \\\n",
       "0                         7.74908                          16.06352   \n",
       "1                        22.41224                          25.17962   \n",
       "2                         7.08215                          16.78752   \n",
       "3                         9.95516                          18.79168   \n",
       "4                        12.65116                          18.03998   \n",
       "\n",
       "   sess_authorised_percent_pa_10_exact  sess_unauthorised_percent_pa_10_exact  \n",
       "0                             11.87219                                4.19133  \n",
       "1                             14.00838                               11.17124  \n",
       "2                              9.14630                                7.64122  \n",
       "3                              8.98733                                9.80435  \n",
       "4                             10.35420                                7.68577  "
      ]
     },
     "execution_count": 30,
     "metadata": {},
     "output_type": "execute_result"
    }
   ],
   "source": [
    "data.filter(regex='percent').head()"
   ]
  },
  {
   "cell_type": "code",
   "execution_count": 31,
   "metadata": {},
   "outputs": [
    {
     "data": {
      "text/plain": [
       "array(['Regional', 'Local authority', 'National'], dtype=object)"
      ]
     },
     "execution_count": 31,
     "metadata": {},
     "output_type": "execute_result"
    }
   ],
   "source": [
    "data.loc[:,'geographic_level'].unique()"
   ]
  },
  {
   "cell_type": "code",
   "execution_count": 46,
   "metadata": {},
   "outputs": [
    {
     "name": "stdout",
     "output_type": "stream",
     "text": [
      "time_period\n",
      "[201617 201718 201819 202021 202122 202223]\n",
      "time_identifier\n",
      "['Autumn and spring term']\n",
      "geographic_level\n",
      "['Regional' 'Local authority' 'National']\n",
      "region_code\n",
      "['E12000001' 'E12000002' 'E13000002' 'E12000004' 'E12000006' 'E13000001'\n",
      " 'E12000008' 'E12000009' 'E12000005' 'E12000003' nan]\n",
      "region_name\n",
      "['North East' 'North West' 'Outer London' 'East Midlands'\n",
      " 'East of England' 'Inner London' 'South East' 'South West'\n",
      " 'West Midlands' 'Yorkshire and The Humber' nan]\n",
      "new_la_code\n",
      "[nan 'E09000020' 'E09000023' 'E09000006' 'E08000027' 'E08000030'\n",
      " 'E08000003' 'E08000006' 'E08000009' 'E08000021' 'E08000022' 'E06000004'\n",
      " 'E06000011' 'E06000058' 'E06000016' 'E06000036' 'E10000034' 'E10000017'\n",
      " 'E06000020' 'E10000020' 'E08000005' 'E06000024' 'E06000002' 'E10000002'\n",
      " 'E06000045' 'E06000019' 'E06000051' 'E09000007' 'E09000005' 'E08000014'\n",
      " 'E10000023' 'E06000032' 'E06000055' 'E09000008' 'E08000028' 'E08000012'\n",
      " 'E08000032' 'E08000033' 'E08000024' 'E06000001' 'E06000003' 'E06000021'\n",
      " 'E06000008' 'E06000062' 'E09000030' 'E09000002' 'E09000025' 'E08000034'\n",
      " 'E06000035' 'E10000013' 'E10000025' 'E10000030' 'E06000039' 'E09000012'\n",
      " 'E09000019' 'E09000026' 'E08000031' 'E08000013' 'E08000015' 'E08000004'\n",
      " 'E08000007' 'E08000017' 'E08000018' 'E08000036' 'E06000025' 'E06000030'\n",
      " 'E06000038' 'E06000041' 'E06000006' 'E06000007' 'E06000027' 'E06000033'\n",
      " 'E06000040' 'E06000013' 'E10000016' 'E06000009' 'E10000024' 'E06000018'\n",
      " 'E10000019' 'E10000027' 'E10000031' 'E09000018' 'E10000012' 'E09000001'\n",
      " 'E09000028' 'E09000003' 'E09000010' 'E09000014' 'E08000025' 'E06000022'\n",
      " 'E06000042' 'E10000007' 'E10000011' 'E10000014' 'E10000018' 'E10000028'\n",
      " 'E06000037' 'E06000057' 'E09000013' 'E09000022' 'E06000050' 'E08000008'\n",
      " 'E08000023' 'E06000010' 'E06000015' 'E06000017' 'E08000026' 'E09000011'\n",
      " 'E09000032' 'E09000033' 'E09000016' 'E09000017' 'E09000021' 'E09000024'\n",
      " 'E09000027' 'E09000031' 'E08000010' 'E08000035' 'E06000012' 'E06000056'\n",
      " 'E06000059' 'E06000005' 'E06000049' 'E10000006' 'E10000015' 'E09000029'\n",
      " 'E08000002' 'E08000019' 'E08000016' 'E10000003' 'E06000031' 'E10000008'\n",
      " 'E09000004' 'E08000001' 'E06000023' 'E06000014' 'E06000044' 'E06000026'\n",
      " 'E06000034' 'E06000052' 'E06000046' 'E10000029' 'E10000032' 'E09000009'\n",
      " 'E09000015' 'E08000029' 'E08000011' 'E06000061' 'E06000043' 'E06000047'\n",
      " 'E08000037' 'E06000054' 'E06000053' 'E10000021' 'E06000029' 'E10000009'\n",
      " 'E06000028']\n",
      "la_name\n",
      "[nan 'Kensington and Chelsea' 'Lewisham' 'Bromley' 'Dudley' 'Walsall'\n",
      " 'Manchester' 'Salford' 'Trafford' 'Newcastle upon Tyne' 'North Tyneside'\n",
      " 'Stockton-on-Tees' 'East Riding of Yorkshire'\n",
      " 'Bournemouth, Christchurch and Poole' 'Leicester' 'Bracknell Forest'\n",
      " 'Worcestershire' 'Lancashire' 'Telford and Wrekin' 'Norfolk' 'Rochdale'\n",
      " 'North Somerset' 'Middlesbrough' 'Buckinghamshire' 'Southampton'\n",
      " 'Herefordshire, County of' 'Shropshire' 'Camden' 'Brent' 'Sefton'\n",
      " 'North Yorkshire' 'Luton' 'Bedford' 'Croydon' 'Sandwell' 'Liverpool'\n",
      " 'Bradford' 'Calderdale' 'Sunderland' 'Hartlepool' 'Redcar and Cleveland'\n",
      " 'Stoke-on-Trent' 'Blackburn with Darwen' 'West Northamptonshire'\n",
      " 'Tower Hamlets' 'Barking and Dagenham' 'Newham' 'Kirklees' 'Medway'\n",
      " 'Gloucestershire' 'Oxfordshire' 'Surrey' 'Slough' 'Hackney' 'Islington'\n",
      " 'Redbridge' 'Wolverhampton' 'St. Helens' 'Wirral' 'Oldham' 'Stockport'\n",
      " 'Doncaster' 'Rotherham' 'Wakefield' 'South Gloucestershire' 'Swindon'\n",
      " 'Reading' 'Wokingham' 'Halton' 'Warrington' 'Torbay' 'Southend-on-Sea'\n",
      " 'Windsor and Maidenhead' 'North Lincolnshire' 'Kent' 'Blackpool'\n",
      " 'Nottinghamshire' 'Nottingham' 'Lincolnshire' 'Somerset' 'Warwickshire'\n",
      " 'Hounslow' 'Essex' 'City of London' 'Southwark' 'Barnet' 'Enfield'\n",
      " 'Haringey' 'Birmingham' 'Bath and North East Somerset' 'Milton Keynes'\n",
      " 'Derbyshire' 'East Sussex' 'Hampshire' 'Leicestershire' 'Staffordshire'\n",
      " 'West Berkshire' 'Northumberland' 'Hammersmith and Fulham' 'Lambeth'\n",
      " 'Cheshire West and Chester' 'Tameside' 'South Tyneside'\n",
      " 'Kingston upon Hull, City of' 'Derby' 'Rutland' 'Coventry' 'Greenwich'\n",
      " 'Wandsworth' 'Westminster' 'Havering' 'Hillingdon' 'Kingston upon Thames'\n",
      " 'Merton' 'Richmond upon Thames' 'Waltham Forest' 'Wigan' 'Leeds'\n",
      " 'North East Lincolnshire' 'Central Bedfordshire' 'Dorset' 'Darlington'\n",
      " 'Cheshire East' 'Cumbria' 'Hertfordshire' 'Sutton' 'Bury' 'Sheffield'\n",
      " 'Barnsley' 'Cambridgeshire' 'Peterborough' 'Devon' 'Bexley' 'Bolton'\n",
      " 'Bristol, City of' 'York' 'Portsmouth' 'Plymouth' 'Thurrock' 'Cornwall'\n",
      " 'Isle of Wight' 'Suffolk' 'West Sussex' 'Ealing' 'Harrow' 'Solihull'\n",
      " 'Knowsley' 'North Northamptonshire' 'Brighton and Hove' 'County Durham'\n",
      " 'Gateshead' 'Wiltshire' 'Isles of Scilly' 'Northamptonshire' 'Poole'\n",
      " 'Bournemouth']\n",
      "school_type\n",
      "['State-funded secondary' 'Special' 'Total' 'State-funded primary']\n",
      "characteristic\n",
      "['Year 6' 'Ethnicity Major - Unclassified'\n",
      " 'Ethnicity Minor - Any other Asian background'\n",
      " 'Ethnicity Minor - Any other ethnic group'\n",
      " 'Ethnicity Minor - Any other Mixed background'\n",
      " 'Ethnicity Minor - White British' 'Female' 'First language unclassified'\n",
      " 'FSM eligible' 'FSM unclassified' 'Male' 'Year 2' 'Year 3'\n",
      " 'Ethnicity - minority ethnic group' 'Ethnicity Major - Chinese'\n",
      " 'SEN - No SEN' 'Year 1 and below' 'Year 5' 'Year 7'\n",
      " 'Ethnicity Major - Any other ethnic group'\n",
      " 'Ethnicity Minor - Any other White background'\n",
      " 'Ethnicity Minor - Black African' 'Ethnicity Minor - Pakistani'\n",
      " 'Ethnicity Minor - Unclassified' 'Ethnicity Minor - White and Asian'\n",
      " 'Ethnicity Minor - White and Black African'\n",
      " 'Ethnicity Minor - White and Black Caribbean'\n",
      " 'First language known or believed to English'\n",
      " 'NC not followed or missing' 'Year 11' 'Year 12 and above'\n",
      " 'Ethnicity Minor - Bangladeshi' 'SEN - Statement or EHCP'\n",
      " 'Ethnicity Minor - Irish' 'SEN - unclassified' 'Total'\n",
      " 'Ethnicity Major - Mixed Total'\n",
      " 'First language known or believed to be other than English'\n",
      " 'Not minority ethnic' 'SEN - SEN support' 'Year 8' 'Year 10' 'Year 9'\n",
      " 'Ethnicity Minor - Gypsy Roma' 'FSM not eligible'\n",
      " 'Ethnicity Minor - Any other Black background'\n",
      " 'Ethnicity Minor - Black Caribbean' 'Year 4'\n",
      " 'Ethnicity Major - Black Total' 'Ethnicity Major - White Total'\n",
      " 'Ethnicity Minor - Chinese' 'Gender_unclassified'\n",
      " 'Ethnicity Major - Asian Total' 'Ethnicity Minor - Indian'\n",
      " 'Ethnicity Minor - Traveller of Irish heritage']\n"
     ]
    }
   ],
   "source": [
    "for col in dimensions:\n",
    "    print(col)\n",
    "    print(data.loc[:,col].unique())"
   ]
  },
  {
   "cell_type": "markdown",
   "metadata": {},
   "source": []
  }
 ],
 "metadata": {
  "kernelspec": {
   "display_name": ".venv",
   "language": "python",
   "name": "python3"
  },
  "language_info": {
   "codemirror_mode": {
    "name": "ipython",
    "version": 3
   },
   "file_extension": ".py",
   "mimetype": "text/x-python",
   "name": "python",
   "nbconvert_exporter": "python",
   "pygments_lexer": "ipython3",
   "version": "3.10.11"
  }
 },
 "nbformat": 4,
 "nbformat_minor": 2
}
